{
 "cells": [
  {
   "cell_type": "code",
   "execution_count": null,
   "metadata": {},
   "outputs": [],
   "source": [
    "import sys\n",
    "sys.path.append('../')\n",
    "\n",
    "import numpy as np\n",
    "import matplotlib.pyplot as plt\n",
    "from stim_surface_code.memory import MemoryPatch\n",
    "from stim_surface_code import noise"
   ]
  },
  {
   "cell_type": "markdown",
   "metadata": {},
   "source": [
    "# Basic usage"
   ]
  },
  {
   "cell_type": "code",
   "execution_count": null,
   "metadata": {},
   "outputs": [],
   "source": [
    "m = MemoryPatch(5, 5, 5, id_offset=100)\n",
    "m"
   ]
  },
  {
   "cell_type": "code",
   "execution_count": null,
   "metadata": {},
   "outputs": [],
   "source": [
    "# 10x better noise vals than Google's device\n",
    "noise_params = noise.GoogleNoiseParams.improve_noise_params(10)\n",
    "\n",
    "print(noise_params.baseline_error_means)"
   ]
  },
  {
   "cell_type": "code",
   "execution_count": null,
   "metadata": {},
   "outputs": [],
   "source": [
    "m.set_error_vals_normal(noise_params.baseline_error_means, noise_params.baseline_error_stdevs)"
   ]
  },
  {
   "cell_type": "code",
   "execution_count": null,
   "metadata": {},
   "outputs": [],
   "source": [
    "m.count_logical_errors()"
   ]
  },
  {
   "cell_type": "markdown",
   "metadata": {},
   "source": [
    "# Increasing d"
   ]
  },
  {
   "cell_type": "code",
   "execution_count": null,
   "metadata": {},
   "outputs": [],
   "source": [
    "def get_noise_params(p):\n",
    "    return noise.NoiseParams(\n",
    "        {\n",
    "            'T1':np.inf, \n",
    "            'T2':np.inf, \n",
    "            'gate1_err':np.log10(p), \n",
    "            'gate2_err':np.log10(p), \n",
    "            'readout_err':np.log10(p)\n",
    "        },\n",
    "    )"
   ]
  },
  {
   "cell_type": "code",
   "execution_count": null,
   "metadata": {},
   "outputs": [],
   "source": [
    "ds = [3,5,7]\n",
    "ps = np.linspace(1e-2,1e-3,5)\n",
    "z_vals = np.zeros((len(ds), len(ps)))\n",
    "for i,d in enumerate(ds):\n",
    "    for j,p in enumerate(ps):\n",
    "        m = MemoryPatch(d, d, d)\n",
    "        m.set_error_vals_normal(get_noise_params(p).baseline_error_means)\n",
    "        ler = m.count_logical_errors(shots=10**6, observable_basis='Z', ideal_init_and_meas=True)[0]\n",
    "        z_vals[i,j] = ler"
   ]
  },
  {
   "cell_type": "code",
   "execution_count": null,
   "metadata": {},
   "outputs": [],
   "source": [
    "ds = [3,5,7]\n",
    "ps = np.linspace(1e-2,1e-3,5)\n",
    "x_vals = np.zeros((len(ds), len(ps)))\n",
    "for i,d in enumerate(ds):\n",
    "    for j,p in enumerate(ps):\n",
    "        m = MemoryPatch(d, d, d)\n",
    "        m.set_error_vals_normal(get_noise_params(p).baseline_error_means)\n",
    "        ler = m.count_logical_errors(shots=10**6, observable_basis='X', ideal_init_and_meas=True)[0]\n",
    "        x_vals[i,j] = ler"
   ]
  },
  {
   "cell_type": "code",
   "execution_count": null,
   "metadata": {},
   "outputs": [],
   "source": [
    "ax1 = plt.subplot(121)\n",
    "ax1.plot(ps, z_vals.T)\n",
    "ax1.set_yscale('log')\n",
    "ax1.set_ylabel('Logical error rate')\n",
    "ax1.set_title('Z basis')\n",
    "ax1.set_xlabel('Physical error rate')\n",
    "\n",
    "ax2 = plt.subplot(122, sharey=ax1)\n",
    "ax2.plot(ps, x_vals.T)\n",
    "ax2.set_title('X basis')\n",
    "ax2.set_xlabel('Physical error rate')\n",
    "\n",
    "plt.show()"
   ]
  },
  {
   "cell_type": "code",
   "execution_count": null,
   "metadata": {},
   "outputs": [],
   "source": []
  }
 ],
 "metadata": {
  "kernelspec": {
   "display_name": "stim-surface-code-mcWMeBEF",
   "language": "python",
   "name": "python3"
  },
  "language_info": {
   "codemirror_mode": {
    "name": "ipython",
    "version": 3
   },
   "file_extension": ".py",
   "mimetype": "text/x-python",
   "name": "python",
   "nbconvert_exporter": "python",
   "pygments_lexer": "ipython3",
   "version": "3.11.7"
  }
 },
 "nbformat": 4,
 "nbformat_minor": 2
}
