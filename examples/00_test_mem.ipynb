{
 "cells": [
  {
   "cell_type": "code",
   "execution_count": 1,
   "metadata": {},
   "outputs": [],
   "source": [
    "import sys\n",
    "sys.path.append('../')\n",
    "\n",
    "import numpy as np\n",
    "import matplotlib.pyplot as plt\n",
    "from stim_surface_code.memory import MemoryPatch\n",
    "from stim_surface_code import noise"
   ]
  },
  {
   "cell_type": "markdown",
   "metadata": {},
   "source": [
    "# Basic usage"
   ]
  },
  {
   "cell_type": "code",
   "execution_count": 2,
   "metadata": {},
   "outputs": [
    {
     "data": {
      "text/plain": [
       "--------------------------------------------------------\n",
       "|    |    |\u001b[0;34mX125\u001b[1;37;0m|    |    |    |\u001b[0;34mX126\u001b[1;37;0m|    |    |    |    |\n",
       "----------+----+--------------+----+--------------------\n",
       "|    |\u001b[1;37;48m 100\u001b[1;37;0m|    |\u001b[1;37;48m 101\u001b[1;37;0m|    |\u001b[1;37;48m 102\u001b[1;37;0m|    |\u001b[1;37;48m 103\u001b[1;37;0m|    |\u001b[1;37;48m 104\u001b[1;37;0m|    |\n",
       "----------+----+----+----+----+----+----+----+----+-----\n",
       "|    |    |\u001b[0;31mZ127\u001b[1;37;0m|    |\u001b[0;34mX128\u001b[1;37;0m|    |\u001b[0;31mZ129\u001b[1;37;0m|    |\u001b[0;34mX130\u001b[1;37;0m|    |\u001b[0;31mZ131\u001b[1;37;0m|\n",
       "----------+----+----+----+----+----+----+----+----+-----\n",
       "|    |\u001b[1;37;48m 105\u001b[1;37;0m|    |\u001b[1;37;48m 106\u001b[1;37;0m|    |\u001b[1;37;48m 107\u001b[1;37;0m|    |\u001b[1;37;48m 108\u001b[1;37;0m|    |\u001b[1;37;48m 109\u001b[1;37;0m|    |\n",
       "-----+----+----+----+----+----+----+----+----+----------\n",
       "|\u001b[0;31mZ132\u001b[1;37;0m|    |\u001b[0;34mX133\u001b[1;37;0m|    |\u001b[0;31mZ134\u001b[1;37;0m|    |\u001b[0;34mX135\u001b[1;37;0m|    |\u001b[0;31mZ136\u001b[1;37;0m|    |    |\n",
       "-----+----+----+----+----+----+----+----+----+----------\n",
       "|    |\u001b[1;37;48mL110\u001b[1;37;0m|    |\u001b[1;37;48mL111\u001b[1;37;0m|    |\u001b[1;37;48mL112\u001b[1;37;0m|    |\u001b[1;37;48mL113\u001b[1;37;0m|    |\u001b[1;37;48mL114\u001b[1;37;0m|    |\n",
       "----------+----+----+----+----+----+----+----+----+-----\n",
       "|    |    |\u001b[0;31mZ137\u001b[1;37;0m|    |\u001b[0;34mX138\u001b[1;37;0m|    |\u001b[0;31mZ139\u001b[1;37;0m|    |\u001b[0;34mX140\u001b[1;37;0m|    |\u001b[0;31mZ141\u001b[1;37;0m|\n",
       "----------+----+----+----+----+----+----+----+----+-----\n",
       "|    |\u001b[1;37;48m 115\u001b[1;37;0m|    |\u001b[1;37;48m 116\u001b[1;37;0m|    |\u001b[1;37;48m 117\u001b[1;37;0m|    |\u001b[1;37;48m 118\u001b[1;37;0m|    |\u001b[1;37;48m 119\u001b[1;37;0m|    |\n",
       "-----+----+----+----+----+----+----+----+----+----------\n",
       "|\u001b[0;31mZ142\u001b[1;37;0m|    |\u001b[0;34mX143\u001b[1;37;0m|    |\u001b[0;31mZ144\u001b[1;37;0m|    |\u001b[0;34mX145\u001b[1;37;0m|    |\u001b[0;31mZ146\u001b[1;37;0m|    |    |\n",
       "-----+----+----+----+----+----+----+----+----+----------\n",
       "|    |\u001b[1;37;48m 120\u001b[1;37;0m|    |\u001b[1;37;48m 121\u001b[1;37;0m|    |\u001b[1;37;48m 122\u001b[1;37;0m|    |\u001b[1;37;48m 123\u001b[1;37;0m|    |\u001b[1;37;48m 124\u001b[1;37;0m|    |\n",
       "--------------------+----+--------------+----+----------\n",
       "|    |    |    |    |\u001b[0;34mX147\u001b[1;37;0m|    |    |    |\u001b[0;34mX148\u001b[1;37;0m|    |    |\n",
       "--------------------------------------------------------"
      ]
     },
     "execution_count": 2,
     "metadata": {},
     "output_type": "execute_result"
    }
   ],
   "source": [
    "m = MemoryPatch(5,5,5, id_offset=100)\n",
    "m"
   ]
  },
  {
   "cell_type": "code",
   "execution_count": 3,
   "metadata": {},
   "outputs": [
    {
     "name": "stdout",
     "output_type": "stream",
     "text": [
      "{'T1': 0.0002, 'T2': 0.00030000000000000003, 'gate1_err': 9.015368548802825e-07, 'gate2_err': 0.00035424042547487725, 'readout_err': 0.0002, 'erasure': 0.0}\n",
      "{'T1': 1.9999999999999998e-05, 'T2': 5e-05, 'gate1_err': 1.0000000000000002e-06, 'gate2_err': 5e-05, 'readout_err': 0.0001, 'erasure': 0.0}\n"
     ]
    }
   ],
   "source": [
    "# 10x better noise vals than Google's device\n",
    "noise_params = noise.GoogleNoiseParams.improve(10)\n",
    "\n",
    "print(noise_params.error_means)\n",
    "print(noise_params.error_stdevs)"
   ]
  },
  {
   "cell_type": "code",
   "execution_count": 4,
   "metadata": {},
   "outputs": [],
   "source": [
    "noise_params.set_patch_err_vals(m)"
   ]
  },
  {
   "cell_type": "code",
   "execution_count": 5,
   "metadata": {},
   "outputs": [
    {
     "data": {
      "text/plain": [
       "(0.0008666, 10000000)"
      ]
     },
     "execution_count": 5,
     "metadata": {},
     "output_type": "execute_result"
    }
   ],
   "source": [
    "m.count_logical_errors()"
   ]
  },
  {
   "cell_type": "markdown",
   "metadata": {},
   "source": [
    "# Increasing d"
   ]
  },
  {
   "cell_type": "code",
   "execution_count": 10,
   "metadata": {},
   "outputs": [],
   "source": [
    "def get_noise_params(p):\n",
    "    return noise.NoiseParams(\n",
    "        {\n",
    "            'T1':np.inf, \n",
    "            'T2':np.inf, \n",
    "            'gate1_err':p,\n",
    "            'gate2_err':p,\n",
    "            'readout_err':p,\n",
    "            'erasure':0,\n",
    "        },\n",
    "    )"
   ]
  },
  {
   "cell_type": "code",
   "execution_count": 11,
   "metadata": {},
   "outputs": [],
   "source": [
    "# see how to do this more efficiently in notebook 03_sinter.ipynb!\n",
    "ds = [3,5,7]\n",
    "ps = np.geomspace(5e-2,1e-3,5)\n",
    "z_vals = np.zeros((len(ds), len(ps)))\n",
    "for i,d in enumerate(ds):\n",
    "    for j,p in enumerate(ps):\n",
    "        m = MemoryPatch(d, d, d)\n",
    "        get_noise_params(p).set_patch_err_vals(m)\n",
    "        ler = m.count_logical_errors(shots=10**6, observable_basis='Z')[0]\n",
    "        z_vals[i,j] = ler"
   ]
  },
  {
   "cell_type": "code",
   "execution_count": 12,
   "metadata": {},
   "outputs": [],
   "source": [
    "ds = [3,5,7]\n",
    "ps = np.geomspace(5e-2,1e-3,5)\n",
    "x_vals = np.zeros((len(ds), len(ps)))\n",
    "for i,d in enumerate(ds):\n",
    "    for j,p in enumerate(ps):\n",
    "        m = MemoryPatch(d, d, d)\n",
    "        get_noise_params(p).set_patch_err_vals(m)\n",
    "        ler = m.count_logical_errors(shots=10**6, observable_basis='X')[0]\n",
    "        x_vals[i,j] = ler"
   ]
  },
  {
   "cell_type": "code",
   "execution_count": 13,
   "metadata": {},
   "outputs": [
    {
     "data": {
      "image/png": "[encoded data removed]",
      "text/plain": [
       "<Figure size 640x480 with 2 Axes>"
      ]
     },
     "metadata": {},
     "output_type": "display_data"
    }
   ],
   "source": [
    "ax1 = plt.subplot(121)\n",
    "ax1.plot(ps, z_vals.T)\n",
    "ax1.loglog()\n",
    "ax1.set_ylabel('Logical error rate')\n",
    "ax1.set_title('Z basis')\n",
    "ax1.set_xlabel('Physical error rate')\n",
    "\n",
    "ax2 = plt.subplot(122, sharey=ax1)\n",
    "ax2.plot(ps, x_vals.T)\n",
    "ax2.loglog()\n",
    "ax2.set_title('X basis')\n",
    "ax2.set_xlabel('Physical error rate')\n",
    "\n",
    "plt.show()"
   ]
  },
  {
   "cell_type": "code",
   "execution_count": 24,
   "metadata": {},
   "outputs": [],
   "source": [
    "def get_noise_params(p):\n",
    "    return noise.NoiseParams(\n",
    "        {\n",
    "            'T1':np.inf, \n",
    "            'T2':np.inf, \n",
    "            'gate1_err':p,\n",
    "            'gate2_err':p,\n",
    "            'readout_err':p,\n",
    "            'erasure':p,\n",
    "        },\n",
    "    )\n",
    "d = 3\n",
    "m = MemoryPatch(d, d, d)\n",
    "get_noise_params(1e-3).set_patch_err_vals(m)"
   ]
  },
  {
   "cell_type": "code",
   "execution_count": 22,
   "metadata": {},
   "outputs": [
    {
     "ename": "AttributeError",
     "evalue": "'stim._stim_polyfill.CompiledDetectorSampler' object has no attribute '__dict__'",
     "output_type": "error",
     "traceback": [
      "\u001b[0;31m---------------------------------------------------------------------------\u001b[0m",
      "\u001b[0;31mAttributeError\u001b[0m                            Traceback (most recent call last)",
      "Cell \u001b[0;32mIn[22], line 1\u001b[0m\n\u001b[0;32m----> 1\u001b[0m \u001b[43mm\u001b[49m\u001b[38;5;241;43m.\u001b[39;49m\u001b[43mget_stim\u001b[49m\u001b[43m(\u001b[49m\u001b[43m)\u001b[49m\u001b[38;5;241;43m.\u001b[39;49m\u001b[43mcompile_detector_sampler\u001b[49m\u001b[43m(\u001b[49m\u001b[43m)\u001b[49m\u001b[38;5;241;43m.\u001b[39;49m\u001b[38;5;18;43m__dict__\u001b[39;49m\n",
      "\u001b[0;31mAttributeError\u001b[0m: 'stim._stim_polyfill.CompiledDetectorSampler' object has no attribute '__dict__'"
     ]
    }
   ],
   "source": [
    "m.get_stim().compile_detector_sampler().__dict__"
   ]
  },
  {
   "cell_type": "code",
   "execution_count": 25,
   "metadata": {},
   "outputs": [
    {
     "data": {
      "text/plain": [
       "{0: [0.0, 2.0, 0.0, 1.0],\n",
       " 1: [2.0, 4.0, 0.0, 1.0],\n",
       " 2: [4.0, 2.0, 0.0, 1.0],\n",
       " 3: [6.0, 4.0, 0.0, 1.0],\n",
       " 4: [2.0, 2.0, 0.0, 1.0],\n",
       " 5: [2.0, 6.0, 0.0, 1.0],\n",
       " 6: [4.0, 0.0, 0.0, 1.0],\n",
       " 7: [4.0, 4.0, 0.0, 1.0],\n",
       " 8: [1.0, 1.0, 0.0, 1.0],\n",
       " 9: [3.0, 1.0, 0.0, 1.0],\n",
       " 10: [5.0, 1.0, 0.0, 1.0],\n",
       " 11: [1.0, 3.0, 0.0, 1.0],\n",
       " 12: [3.0, 3.0, 0.0, 1.0],\n",
       " 13: [5.0, 3.0, 0.0, 1.0],\n",
       " 14: [1.0, 5.0, 0.0, 1.0],\n",
       " 15: [3.0, 5.0, 0.0, 1.0],\n",
       " 16: [5.0, 5.0, 0.0, 1.0],\n",
       " 17: [2.0, 2.0, 0.0],\n",
       " 18: [2.0, 6.0, 0.0],\n",
       " 19: [4.0, 0.0, 0.0],\n",
       " 20: [4.0, 4.0, 0.0],\n",
       " 21: [0.0, 2.0, 1.0, 1.0],\n",
       " 22: [2.0, 4.0, 1.0, 1.0],\n",
       " 23: [4.0, 2.0, 1.0, 1.0],\n",
       " 24: [6.0, 4.0, 1.0, 1.0],\n",
       " 25: [2.0, 2.0, 1.0, 1.0],\n",
       " 26: [2.0, 6.0, 1.0, 1.0],\n",
       " 27: [4.0, 0.0, 1.0, 1.0],\n",
       " 28: [4.0, 4.0, 1.0, 1.0],\n",
       " 29: [1.0, 1.0, 1.0, 1.0],\n",
       " 30: [3.0, 1.0, 1.0, 1.0],\n",
       " 31: [5.0, 1.0, 1.0, 1.0],\n",
       " 32: [1.0, 3.0, 1.0, 1.0],\n",
       " 33: [3.0, 3.0, 1.0, 1.0],\n",
       " 34: [5.0, 3.0, 1.0, 1.0],\n",
       " 35: [1.0, 5.0, 1.0, 1.0],\n",
       " 36: [3.0, 5.0, 1.0, 1.0],\n",
       " 37: [5.0, 5.0, 1.0, 1.0],\n",
       " 38: [0.0, 2.0, 1.0],\n",
       " 39: [2.0, 4.0, 1.0],\n",
       " 40: [4.0, 2.0, 1.0],\n",
       " 41: [6.0, 4.0, 1.0],\n",
       " 42: [2.0, 2.0, 1.0],\n",
       " 43: [2.0, 6.0, 1.0],\n",
       " 44: [4.0, 0.0, 1.0],\n",
       " 45: [4.0, 4.0, 1.0],\n",
       " 46: [0.0, 2.0, 2.0, 1.0],\n",
       " 47: [2.0, 4.0, 2.0, 1.0],\n",
       " 48: [4.0, 2.0, 2.0, 1.0],\n",
       " 49: [6.0, 4.0, 2.0, 1.0],\n",
       " 50: [2.0, 2.0, 2.0, 1.0],\n",
       " 51: [2.0, 6.0, 2.0, 1.0],\n",
       " 52: [4.0, 0.0, 2.0, 1.0],\n",
       " 53: [4.0, 4.0, 2.0, 1.0],\n",
       " 54: [1.0, 1.0, 2.0, 1.0],\n",
       " 55: [3.0, 1.0, 2.0, 1.0],\n",
       " 56: [5.0, 1.0, 2.0, 1.0],\n",
       " 57: [1.0, 3.0, 2.0, 1.0],\n",
       " 58: [3.0, 3.0, 2.0, 1.0],\n",
       " 59: [5.0, 3.0, 2.0, 1.0],\n",
       " 60: [1.0, 5.0, 2.0, 1.0],\n",
       " 61: [3.0, 5.0, 2.0, 1.0],\n",
       " 62: [5.0, 5.0, 2.0, 1.0],\n",
       " 63: [0.0, 2.0, 2.0],\n",
       " 64: [2.0, 4.0, 2.0],\n",
       " 65: [4.0, 2.0, 2.0],\n",
       " 66: [6.0, 4.0, 2.0],\n",
       " 67: [2.0, 2.0, 2.0],\n",
       " 68: [2.0, 6.0, 2.0],\n",
       " 69: [4.0, 0.0, 2.0],\n",
       " 70: [4.0, 4.0, 2.0],\n",
       " 71: [2.0, 2.0, 3.0],\n",
       " 72: [2.0, 6.0, 3.0],\n",
       " 73: [4.0, 0.0, 3.0],\n",
       " 74: [4.0, 4.0, 3.0]}"
      ]
     },
     "execution_count": 25,
     "metadata": {},
     "output_type": "execute_result"
    }
   ],
   "source": [
    "m.get_stim().get_detector_coordinates() "
   ]
  },
  {
   "cell_type": "code",
   "execution_count": null,
   "metadata": {},
   "outputs": [],
   "source": []
  }
 ],
 "metadata": {
  "kernelspec": {
   "display_name": "stim-surface-code-mcWMeBEF",
   "language": "python",
   "name": "python3"
  },
  "language_info": {
   "codemirror_mode": {
    "name": "ipython",
    "version": 3
   },
   "file_extension": ".py",
   "mimetype": "text/x-python",
   "name": "python",
   "nbconvert_exporter": "python",
   "pygments_lexer": "ipython3",
   "version": "3.11.7"
  }
 },
 "nbformat": 4,
 "nbformat_minor": 2
}
