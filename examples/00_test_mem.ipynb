{
 "cells": [
  {
   "cell_type": "code",
   "execution_count": 1,
   "metadata": {},
   "outputs": [],
   "source": [
    "import sys\n",
    "sys.path.append('../')\n",
    "from stim_surface_code.memory import MemoryPatch\n",
    "from stim_surface_code import noise"
   ]
  },
  {
   "cell_type": "markdown",
   "metadata": {},
   "source": [
    "# Basic usage"
   ]
  },
  {
   "cell_type": "code",
   "execution_count": 2,
   "metadata": {},
   "outputs": [
    {
     "data": {
      "text/plain": [
       "--------------------------------------------------------\n",
       "|    |    |\u001b[0;34mX 25\u001b[1;37;0m|    |    |    |\u001b[0;34mX 26\u001b[1;37;0m|    |    |    |    |\n",
       "----------+----+--------------+----+--------------------\n",
       "|    |\u001b[1;37;48m   0\u001b[1;37;0m|    |\u001b[1;37;48m   1\u001b[1;37;0m|    |\u001b[1;37;48m   2\u001b[1;37;0m|    |\u001b[1;37;48m   3\u001b[1;37;0m|    |\u001b[1;37;48m   4\u001b[1;37;0m|    |\n",
       "----------+----+----+----+----+----+----+----+----+-----\n",
       "|    |    |\u001b[0;31mZ 27\u001b[1;37;0m|    |\u001b[0;34mX 28\u001b[1;37;0m|    |\u001b[0;31mZ 29\u001b[1;37;0m|    |\u001b[0;34mX 30\u001b[1;37;0m|    |\u001b[0;31mZ 31\u001b[1;37;0m|\n",
       "----------+----+----+----+----+----+----+----+----+-----\n",
       "|    |\u001b[1;37;48m   5\u001b[1;37;0m|    |\u001b[1;37;48m   6\u001b[1;37;0m|    |\u001b[1;37;48m   7\u001b[1;37;0m|    |\u001b[1;37;48m   8\u001b[1;37;0m|    |\u001b[1;37;48m   9\u001b[1;37;0m|    |\n",
       "-----+----+----+----+----+----+----+----+----+----------\n",
       "|\u001b[0;31mZ 32\u001b[1;37;0m|    |\u001b[0;34mX 33\u001b[1;37;0m|    |\u001b[0;31mZ 34\u001b[1;37;0m|    |\u001b[0;34mX 35\u001b[1;37;0m|    |\u001b[0;31mZ 36\u001b[1;37;0m|    |    |\n",
       "-----+----+----+----+----+----+----+----+----+----------\n",
       "|    |\u001b[1;37;48mL 10\u001b[1;37;0m|    |\u001b[1;37;48mL 11\u001b[1;37;0m|    |\u001b[1;37;48mL 12\u001b[1;37;0m|    |\u001b[1;37;48mL 13\u001b[1;37;0m|    |\u001b[1;37;48mL 14\u001b[1;37;0m|    |\n",
       "----------+----+----+----+----+----+----+----+----+-----\n",
       "|    |    |\u001b[0;31mZ 37\u001b[1;37;0m|    |\u001b[0;34mX 38\u001b[1;37;0m|    |\u001b[0;31mZ 39\u001b[1;37;0m|    |\u001b[0;34mX 40\u001b[1;37;0m|    |\u001b[0;31mZ 41\u001b[1;37;0m|\n",
       "----------+----+----+----+----+----+----+----+----+-----\n",
       "|    |\u001b[1;37;48m  15\u001b[1;37;0m|    |\u001b[1;37;48m  16\u001b[1;37;0m|    |\u001b[1;37;48m  17\u001b[1;37;0m|    |\u001b[1;37;48m  18\u001b[1;37;0m|    |\u001b[1;37;48m  19\u001b[1;37;0m|    |\n",
       "-----+----+----+----+----+----+----+----+----+----------\n",
       "|\u001b[0;31mZ 42\u001b[1;37;0m|    |\u001b[0;34mX 43\u001b[1;37;0m|    |\u001b[0;31mZ 44\u001b[1;37;0m|    |\u001b[0;34mX 45\u001b[1;37;0m|    |\u001b[0;31mZ 46\u001b[1;37;0m|    |    |\n",
       "-----+----+----+----+----+----+----+----+----+----------\n",
       "|    |\u001b[1;37;48m  20\u001b[1;37;0m|    |\u001b[1;37;48m  21\u001b[1;37;0m|    |\u001b[1;37;48m  22\u001b[1;37;0m|    |\u001b[1;37;48m  23\u001b[1;37;0m|    |\u001b[1;37;48m  24\u001b[1;37;0m|    |\n",
       "--------------------+----+--------------+----+----------\n",
       "|    |    |    |    |\u001b[0;34mX 47\u001b[1;37;0m|    |    |    |\u001b[0;34mX 48\u001b[1;37;0m|    |    |\n",
       "--------------------------------------------------------"
      ]
     },
     "execution_count": 2,
     "metadata": {},
     "output_type": "execute_result"
    }
   ],
   "source": [
    "m = MemoryPatch(5, 5, 5)\n",
    "m"
   ]
  },
  {
   "cell_type": "code",
   "execution_count": 3,
   "metadata": {},
   "outputs": [
    {
     "name": "stdout",
     "output_type": "stream",
     "text": [
      "{'T1': 0.0002, 'T2': 0.00030000000000000003, 'gate1_err': -5.0, 'gate2_err': -3.5, 'readout_err': -2.7}\n"
     ]
    }
   ],
   "source": [
    "# 10x better noise vals than Google's device\n",
    "noise_params = noise.GoogleNoiseParams.improve_noise_params(10)\n",
    "\n",
    "print(noise_params.baseline_error_means)"
   ]
  },
  {
   "cell_type": "code",
   "execution_count": 4,
   "metadata": {},
   "outputs": [],
   "source": [
    "m.set_error_vals_normal(noise_params.baseline_error_means, noise_params.baseline_error_stdevs)"
   ]
  },
  {
   "cell_type": "code",
   "execution_count": 5,
   "metadata": {},
   "outputs": [
    {
     "data": {
      "text/plain": [
       "(0.0006491, 10000000)"
      ]
     },
     "execution_count": 5,
     "metadata": {},
     "output_type": "execute_result"
    }
   ],
   "source": [
    "m.count_logical_errors()"
   ]
  },
  {
   "cell_type": "markdown",
   "metadata": {},
   "source": [
    "# Increasing d"
   ]
  },
  {
   "cell_type": "code",
   "execution_count": 6,
   "metadata": {},
   "outputs": [
    {
     "name": "stdout",
     "output_type": "stream",
     "text": [
      "0.0089926\n",
      "0.0006205\n",
      "8.4e-05\n",
      "1.1e-05\n"
     ]
    }
   ],
   "source": [
    "ds = [3,5,7,9]\n",
    "for d in ds:\n",
    "    m = MemoryPatch(d, d, d)\n",
    "    m.set_error_vals_normal(noise_params.baseline_error_means, noise_params.baseline_error_stdevs)\n",
    "    ler = m.count_logical_errors()[0]\n",
    "    print(ler)"
   ]
  },
  {
   "cell_type": "code",
   "execution_count": null,
   "metadata": {},
   "outputs": [],
   "source": []
  }
 ],
 "metadata": {
  "kernelspec": {
   "display_name": "stim-surface-code-mcWMeBEF",
   "language": "python",
   "name": "python3"
  },
  "language_info": {
   "codemirror_mode": {
    "name": "ipython",
    "version": 3
   },
   "file_extension": ".py",
   "mimetype": "text/x-python",
   "name": "python",
   "nbconvert_exporter": "python",
   "pygments_lexer": "ipython3",
   "version": "3.10.11"
  }
 },
 "nbformat": 4,
 "nbformat_minor": 2
}
