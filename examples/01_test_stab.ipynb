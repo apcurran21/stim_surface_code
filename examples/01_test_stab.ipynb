{
 "cells": [
  {
   "cell_type": "code",
   "execution_count": 1,
   "metadata": {},
   "outputs": [],
   "source": [
    "import sys\n",
    "sys.path.append('../')\n",
    "from stim_surface_code.stability import StabilityPatch\n",
    "from stim_surface_code import noise"
   ]
  },
  {
   "cell_type": "markdown",
   "metadata": {},
   "source": [
    "# Basic usage"
   ]
  },
  {
   "cell_type": "code",
   "execution_count": 2,
   "metadata": {},
   "outputs": [
    {
     "data": {
      "text/plain": [
       "------------------------------------------------------------------\n",
       "|    |    |\u001b[0;34mX 36\u001b[1;37;0m|    |    |    |\u001b[0;34mX 37\u001b[1;37;0m|    |    |    |\u001b[0;34mX 38\u001b[1;37;0m|    |    |\n",
       "----------+----+--------------+----+--------------+----+----------\n",
       "|    |\u001b[1;37;48m   0\u001b[1;37;0m|    |\u001b[1;37;48m   1\u001b[1;37;0m|    |\u001b[1;37;48m   2\u001b[1;37;0m|    |\u001b[1;37;48m   3\u001b[1;37;0m|    |\u001b[1;37;48m   4\u001b[1;37;0m|    |\u001b[1;37;48m   5\u001b[1;37;0m|    |\n",
       "-----+----+----+----+----+----+----+----+----+----+----+----+-----\n",
       "|\u001b[0;34mX 39\u001b[1;37;0m|    |\u001b[0;31mZ 40\u001b[1;37;0m|    |\u001b[0;34mX 41\u001b[1;37;0m|    |\u001b[0;31mZ 42\u001b[1;37;0m|    |\u001b[0;34mX 43\u001b[1;37;0m|    |\u001b[0;31mZ 44\u001b[1;37;0m|    |\u001b[0;34mX 45\u001b[1;37;0m|\n",
       "-----+----+----+----+----+----+----+----+----+----+----+----+-----\n",
       "|    |\u001b[1;37;48m   6\u001b[1;37;0m|    |\u001b[1;37;48m   7\u001b[1;37;0m|    |\u001b[1;37;48m   8\u001b[1;37;0m|    |\u001b[1;37;48m   9\u001b[1;37;0m|    |\u001b[1;37;48m  10\u001b[1;37;0m|    |\u001b[1;37;48m  11\u001b[1;37;0m|    |\n",
       "----------+----+----+----+----+----+----+----+----+----+----------\n",
       "|    |    |\u001b[0;34mX 46\u001b[1;37;0m|    |\u001b[0;31mZ 47\u001b[1;37;0m|    |\u001b[0;34mX 48\u001b[1;37;0m|    |\u001b[0;31mZ 49\u001b[1;37;0m|    |\u001b[0;34mX 50\u001b[1;37;0m|    |    |\n",
       "----------+----+----+----+----+----+----+----+----+----+----------\n",
       "|    |\u001b[1;37;48m  12\u001b[1;37;0m|    |\u001b[1;37;48m  13\u001b[1;37;0m|    |\u001b[1;37;48m  14\u001b[1;37;0m|    |\u001b[1;37;48m  15\u001b[1;37;0m|    |\u001b[1;37;48m  16\u001b[1;37;0m|    |\u001b[1;37;48m  17\u001b[1;37;0m|    |\n",
       "-----+----+----+----+----+----+----+----+----+----+----+----+-----\n",
       "|\u001b[0;34mX 51\u001b[1;37;0m|    |\u001b[0;31mZ 52\u001b[1;37;0m|    |\u001b[0;34mX 53\u001b[1;37;0m|    |\u001b[0;31mZ 54\u001b[1;37;0m|    |\u001b[0;34mX 55\u001b[1;37;0m|    |\u001b[0;31mZ 56\u001b[1;37;0m|    |\u001b[0;34mX 57\u001b[1;37;0m|\n",
       "-----+----+----+----+----+----+----+----+----+----+----+----+-----\n",
       "|    |\u001b[1;37;48m  18\u001b[1;37;0m|    |\u001b[1;37;48m  19\u001b[1;37;0m|    |\u001b[1;37;48m  20\u001b[1;37;0m|    |\u001b[1;37;48m  21\u001b[1;37;0m|    |\u001b[1;37;48m  22\u001b[1;37;0m|    |\u001b[1;37;48m  23\u001b[1;37;0m|    |\n",
       "----------+----+----+----+----+----+----+----+----+----+----------\n",
       "|    |    |\u001b[0;34mX 58\u001b[1;37;0m|    |\u001b[0;31mZ 59\u001b[1;37;0m|    |\u001b[0;34mX 60\u001b[1;37;0m|    |\u001b[0;31mZ 61\u001b[1;37;0m|    |\u001b[0;34mX 62\u001b[1;37;0m|    |    |\n",
       "----------+----+----+----+----+----+----+----+----+----+----------\n",
       "|    |\u001b[1;37;48m  24\u001b[1;37;0m|    |\u001b[1;37;48m  25\u001b[1;37;0m|    |\u001b[1;37;48m  26\u001b[1;37;0m|    |\u001b[1;37;48m  27\u001b[1;37;0m|    |\u001b[1;37;48m  28\u001b[1;37;0m|    |\u001b[1;37;48m  29\u001b[1;37;0m|    |\n",
       "-----+----+----+----+----+----+----+----+----+----+----+----+-----\n",
       "|\u001b[0;34mX 63\u001b[1;37;0m|    |\u001b[0;31mZ 64\u001b[1;37;0m|    |\u001b[0;34mX 65\u001b[1;37;0m|    |\u001b[0;31mZ 66\u001b[1;37;0m|    |\u001b[0;34mX 67\u001b[1;37;0m|    |\u001b[0;31mZ 68\u001b[1;37;0m|    |\u001b[0;34mX 69\u001b[1;37;0m|\n",
       "-----+----+----+----+----+----+----+----+----+----+----+----+-----\n",
       "|    |\u001b[1;37;48m  30\u001b[1;37;0m|    |\u001b[1;37;48m  31\u001b[1;37;0m|    |\u001b[1;37;48m  32\u001b[1;37;0m|    |\u001b[1;37;48m  33\u001b[1;37;0m|    |\u001b[1;37;48m  34\u001b[1;37;0m|    |\u001b[1;37;48m  35\u001b[1;37;0m|    |\n",
       "----------+----+--------------+----+--------------+----+----------\n",
       "|    |    |\u001b[0;34mX 70\u001b[1;37;0m|    |    |    |\u001b[0;34mX 71\u001b[1;37;0m|    |    |    |\u001b[0;34mX 72\u001b[1;37;0m|    |    |\n",
       "------------------------------------------------------------------"
      ]
     },
     "execution_count": 2,
     "metadata": {},
     "output_type": "execute_result"
    }
   ],
   "source": [
    "s = StabilityPatch(6, 6, 6, 'Z')\n",
    "s"
   ]
  },
  {
   "cell_type": "code",
   "execution_count": 3,
   "metadata": {},
   "outputs": [
    {
     "name": "stdout",
     "output_type": "stream",
     "text": [
      "{'T1': 0.0002, 'T2': 0.00030000000000000003, 'gate1_err': -5.0, 'gate2_err': -3.5, 'readout_err': -2.7}\n"
     ]
    }
   ],
   "source": [
    "# 10x better noise vals than Google's device\n",
    "noise_params = noise.GoogleNoiseParams.improve_noise_params(10)\n",
    "\n",
    "print(noise_params.baseline_error_means)"
   ]
  },
  {
   "cell_type": "code",
   "execution_count": 4,
   "metadata": {},
   "outputs": [],
   "source": [
    "s.set_error_vals_normal(noise_params.baseline_error_means, noise_params.baseline_error_stdevs)"
   ]
  },
  {
   "cell_type": "code",
   "execution_count": 5,
   "metadata": {},
   "outputs": [
    {
     "data": {
      "text/plain": [
       "(1.89e-05, 10000000)"
      ]
     },
     "execution_count": 5,
     "metadata": {},
     "output_type": "execute_result"
    }
   ],
   "source": [
    "s.count_logical_errors()"
   ]
  },
  {
   "cell_type": "markdown",
   "metadata": {},
   "source": [
    "# Increasing d"
   ]
  },
  {
   "cell_type": "code",
   "execution_count": 6,
   "metadata": {},
   "outputs": [
    {
     "name": "stdout",
     "output_type": "stream",
     "text": [
      "0.0003805\n",
      "1.71e-05\n",
      "8e-07\n"
     ]
    }
   ],
   "source": [
    "ds = [4,6,8]\n",
    "for d in ds:\n",
    "    s = StabilityPatch(d, d, d)\n",
    "    s.set_error_vals_normal(noise_params.baseline_error_means, noise_params.baseline_error_stdevs)\n",
    "    ler = s.count_logical_errors(10**7)[0]\n",
    "    print(ler)"
   ]
  },
  {
   "cell_type": "code",
   "execution_count": null,
   "metadata": {},
   "outputs": [],
   "source": []
  }
 ],
 "metadata": {
  "kernelspec": {
   "display_name": "stim-surface-code-mcWMeBEF",
   "language": "python",
   "name": "python3"
  },
  "language_info": {
   "codemirror_mode": {
    "name": "ipython",
    "version": 3
   },
   "file_extension": ".py",
   "mimetype": "text/x-python",
   "name": "python",
   "nbconvert_exporter": "python",
   "pygments_lexer": "ipython3",
   "version": "3.10.11"
  }
 },
 "nbformat": 4,
 "nbformat_minor": 2
}
